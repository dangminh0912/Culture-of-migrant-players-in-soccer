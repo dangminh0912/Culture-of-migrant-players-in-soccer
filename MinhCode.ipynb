{
 "cells": [
  {
   "cell_type": "markdown",
   "id": "c519f261",
   "metadata": {},
   "source": [
    "## Central Computation\n",
    "\n"
   ]
  },
  {
   "cell_type": "code",
   "execution_count": 1,
   "id": "bcc4e88f",
   "metadata": {},
   "outputs": [],
   "source": [
    "# Import libraries\n",
    "from bs4 import BeautifulSoup as bs\n",
    "import numpy as np\n",
    "import pandas as pd\n",
    "import os\n",
    "from sklearn.model_selection import train_test_split\n",
    "from sklearn.linear_model import LogisticRegression\n",
    "import seaborn as sns"
   ]
  },
  {
   "cell_type": "markdown",
   "id": "91f74b78",
   "metadata": {},
   "source": [
    "### Function converts from HTML to list of lists"
   ]
  },
  {
   "cell_type": "code",
   "execution_count": 2,
   "id": "0776e634",
   "metadata": {},
   "outputs": [],
   "source": [
    "def convertFile(filename):\n",
    "    name_list=[]\n",
    "    position_list=[]\n",
    "    nationality_list=[]\n",
    "    appearances_list=[]\n",
    "    sheet_list=[]\n",
    "    goal_list=[]\n",
    "    assist_list=[]\n",
    "    with open('./team_player.html/'+filename, \"r\") as file:\n",
    "        content = file.readlines()\n",
    "        content = \"\".join(content)\n",
    "        bs_content = bs(content, \"lxml\")\n",
    "\n",
    "    # Get all the name of players \n",
    "    name_result = bs_content.find_all(\"h4\", {\"class\": \"name\"})\n",
    "    for name in name_result:\n",
    "        name_list.append(name.get_text())\n",
    "\n",
    "\n",
    "    # Get the position of players\n",
    "    position_result = bs_content.find_all(\"span\", {\"class\": \"position\"})\n",
    "    for pos in position_result:\n",
    "        position_list.append(pos.get_text())\n",
    "\n",
    "    # Get the nationality of players\n",
    "    nationality_result = bs_content.find_all(\"span\", {\"class\": \"playerCountry\"})\n",
    "    for country in nationality_result:\n",
    "        nationality_list.append(country.get_text())\n",
    "\n",
    "\n",
    "    # Get the appearances of players\n",
    "    # Appearances: The number of matches that the players participate in a season\n",
    "    appearances_result = bs_content.find_all(text=\"Appearances\")\n",
    "    for a in appearances_result:\n",
    "        b = a.parent\n",
    "        address_dd = b.parent\n",
    "        target_dd = address_dd.findNext('dd')\n",
    "        appearances_list.append(target_dd.get_text())\n",
    "\n",
    "\n",
    "\n",
    "    # Get the clean sheets of players\n",
    "    # Clean sheets: Number of games that the player participate in the match and the opposing team has no score.\n",
    "    sheet_result = bs_content.find_all(text=\"Clean sheets\")\n",
    "    for a in sheet_result:\n",
    "        b = a.parent\n",
    "        address_dd = b.parent\n",
    "        target_dd = address_dd.findNext('dd')\n",
    "        sheet_list.append(target_dd.get_text())\n",
    "\n",
    "\n",
    "    # Get the number of goals for each player\n",
    "    goal_result = bs_content.find_all(text=\"Goals\")\n",
    "    for a in goal_result:\n",
    "        b = a.parent\n",
    "        address_dd = b.parent\n",
    "        target_dd = address_dd.findNext('dd')\n",
    "        goal_list.append(target_dd.get_text())\n",
    "\n",
    "\n",
    "    # Get the number of assists for each player\n",
    "    assist_result = bs_content.find_all(text=\"Assists\")\n",
    "    for a in assist_result:\n",
    "        b = a.parent\n",
    "        address_dd = b.parent\n",
    "        target_dd = address_dd.findNext('dd')\n",
    "        assist_list.append(target_dd.get_text())\n",
    "\n",
    "    player_list=[]\n",
    "    sheet_count=0\n",
    "    goal_count=0\n",
    "    assist_count=0\n",
    "    # Append the information of the players into a list of lists\n",
    "    for count, value in enumerate(name_list):\n",
    "        get_list=[]\n",
    "        get_list.append(value)\n",
    "        get_list.append(position_list[count])\n",
    "        get_list.append(nationality_list[count])\n",
    "        get_list.append(appearances_list[count])\n",
    "        if position_list[count] == \"Goalkeeper\" or position_list[count] == \"Defender\":\n",
    "            get_list.append(sheet_list[sheet_count])\n",
    "            sheet_count+=1\n",
    "        else:\n",
    "            get_list.append(np.NaN)\n",
    "        \n",
    "        if position_list[count] == \"Defender\" or position_list[count] == \"Midfielder\" or position_list[count] ==\"Forward\":\n",
    "            get_list.append(goal_list[goal_count])\n",
    "            goal_count+=1\n",
    "        else:\n",
    "            get_list.append(np.NaN)\n",
    "            \n",
    "        if position_list[count] == \"Midfielder\" or position_list[count] == \"Forward\":\n",
    "            get_list.append(assist_list[assist_count])\n",
    "            assist_count+=1\n",
    "        else:\n",
    "            get_list.append(np.NaN)\n",
    "            \n",
    "        player_list.append(get_list)\n",
    "        \n",
    "    return player_list\n",
    "    \n"
   ]
  },
  {
   "cell_type": "code",
   "execution_count": 3,
   "id": "48eae09e",
   "metadata": {},
   "outputs": [],
   "source": [
    "# Convert from list of lists to DataFrame for each team\n",
    "# Then, store the DataFrame of each team in the dictionary\n",
    "team_dict = {}\n",
    "for filename in os.listdir(\"./team_player.html\"):\n",
    "    df = pd.DataFrame(convertFile(filename), columns=[\"Name\", \"Position\", \"Nationality\", \"Appearances\", \"Clean Sheets\", \"Goals\", \"Assists\"])\n",
    "    team_dict[filename[:-5]] = df"
   ]
  },
  {
   "cell_type": "markdown",
   "id": "efddac2e",
   "metadata": {},
   "source": [
    "### Determine the position to be used by calculating which role has the most migrant players"
   ]
  },
  {
   "cell_type": "code",
   "execution_count": 4,
   "id": "5ee735d7",
   "metadata": {},
   "outputs": [
    {
     "name": "stdout",
     "output_type": "stream",
     "text": [
      "{'Goalkeeper': 46, 'Defender': 129, 'Midfielder': 135, 'Forward': 77}\n"
     ]
    }
   ],
   "source": [
    "# Midfielder has the most international players, so the appearances, goals, and assists will be use to analyze\n",
    "count_position={}\n",
    "for filename in team_dict:\n",
    "    get_df=team_dict[filename]\n",
    "    for count, data in get_df.iterrows():\n",
    "        if data['Nationality'] !=\"England\":\n",
    "            if data['Position'] not in count_position:\n",
    "                count_position[data['Position']]=1\n",
    "            else:\n",
    "                count_position[data['Position']] +=1\n",
    "print(count_position)"
   ]
  },
  {
   "cell_type": "markdown",
   "id": "2238fbef",
   "metadata": {},
   "source": [
    "### Train the logistic regression model to predict if the player is from England or not based on appearances, goals, and assists"
   ]
  },
  {
   "cell_type": "code",
   "execution_count": 5,
   "id": "e2a5cb2e",
   "metadata": {},
   "outputs": [],
   "source": [
    "# Convert from one-dimensional array to two-dimensional array\n",
    "def np_arr(X_train, X_test, y_train, y_test):\n",
    "    X_train = np.array(X_train)\n",
    "    X_test = np.array(X_test)\n",
    "    y_train = np.array(y_train)\n",
    "    y_test = np.array(y_test)\n",
    "\n",
    "\n",
    "    X_train = X_train.reshape(-1, 1)\n",
    "    y_train = y_train.reshape(-1, 1)\n",
    "    X_test = X_test.reshape(-1, 1)\n",
    "    y_test = y_test.reshape(-1, 1)\n",
    "    \n",
    "    return X_train, X_test, y_train, y_test\n"
   ]
  },
  {
   "cell_type": "code",
   "execution_count": 6,
   "id": "525c8656",
   "metadata": {},
   "outputs": [
    {
     "name": "stdout",
     "output_type": "stream",
     "text": [
      "654\n",
      "576\n",
      "354\n"
     ]
    }
   ],
   "source": [
    "# Positions that have appearances: Goalkeeper, Defender, Midfielder, Forward\n",
    "# Positions that have goals: Defender, Midfielder, Forward\n",
    "# Positions that have assists: Midfielder, Forward\n",
    "# Label: 0 for international players and 1 for England players\n",
    "\n",
    "appearances = []\n",
    "assist_label = []\n",
    "goal_label=[]\n",
    "appear_label=[]\n",
    "goals=[]\n",
    "assists=[]\n",
    "for filename in team_dict:\n",
    "    get_df = team_dict[filename]\n",
    "    for count, data in get_df.iterrows():\n",
    "        if data['Position'] == 'Goalkeeper':\n",
    "            appearances.append(data['Appearances'])\n",
    "            if data['Nationality'] == \"England\":\n",
    "                appear_label.append(1)\n",
    "            else:\n",
    "                appear_label.append(0)\n",
    "        elif data['Position'] == 'Defender':\n",
    "            appearances.append(data['Appearances'])\n",
    "            goals.append(data['Goals'])\n",
    "            if data['Nationality'] == \"England\":\n",
    "                appear_label.append(1)\n",
    "                goal_label.append(1)\n",
    "            else:\n",
    "                appear_label.append(0)\n",
    "                goal_label.append(0)\n",
    "        elif data['Position'] == 'Midfielder' or data['Position'] == 'Forward':\n",
    "            assists.append(data['Assists'])\n",
    "            appearances.append(data['Appearances'])\n",
    "            goals.append(data['Goals'])\n",
    "            if data['Nationality'] == \"England\":\n",
    "                assist_label.append(1)\n",
    "                appear_label.append(1)\n",
    "                goal_label.append(1)\n",
    "            else:\n",
    "                assist_label.append(0)\n",
    "                appear_label.append(0)\n",
    "                goal_label.append(0)\n",
    "\n",
    "print(len(appear_label))\n",
    "print(len(goals))\n",
    "print(len(assists))"
   ]
  },
  {
   "cell_type": "code",
   "execution_count": 7,
   "id": "d131ed0f",
   "metadata": {},
   "outputs": [
    {
     "name": "stdout",
     "output_type": "stream",
     "text": [
      "Appearances Score:  0.6524390243902439\n"
     ]
    },
    {
     "name": "stderr",
     "output_type": "stream",
     "text": [
      "/Applications/anaconda3/envs/myenv2/lib/python3.8/site-packages/sklearn/utils/validation.py:993: DataConversionWarning: A column-vector y was passed when a 1d array was expected. Please change the shape of y to (n_samples, ), for example using ravel().\n",
      "  y = column_or_1d(y, warn=True)\n",
      "/Applications/anaconda3/envs/myenv2/lib/python3.8/site-packages/sklearn/base.py:566: FutureWarning: Arrays of bytes/strings is being converted to decimal numbers if dtype='numeric'. This behavior is deprecated in 0.24 and will be removed in 1.1 (renaming of 0.26). Please convert your data to numeric values explicitly instead.\n",
      "  X = check_array(X, **check_params)\n"
     ]
    },
    {
     "data": {
      "image/png": "[encoded data removed]",
      "text/plain": [
       "<Figure size 972x756 with 1 Axes>"
      ]
     },
     "metadata": {
      "needs_background": "light"
     },
     "output_type": "display_data"
    }
   ],
   "source": [
    "# Logistic regression based on appearances\n",
    "plot_appear_list = []\n",
    "for count, value in enumerate(appearances):\n",
    "    plot_appear = []\n",
    "    plot_appear.append(int(value))\n",
    "    plot_appear.append(int(appear_label[count]))\n",
    "    plot_appear_list.append(plot_appear)\n",
    "    \n",
    "model = LogisticRegression()\n",
    "X_train, X_test, y_train, y_test = train_test_split(appearances, appear_label, test_size=0.25, random_state=0)\n",
    "X_train, X_test, y_train, y_test = np_arr(X_train, X_test, y_train, y_test)\n",
    "model.fit(X_train, y_train)\n",
    "print(\"Appearances Score: \", model.score(X_test, y_test))\n",
    "\n",
    "\n",
    "appearances_df = pd.DataFrame(plot_appear_list, columns=[\"Appearances\", \"Count\"])\n",
    "ax = sns.regplot(x='Appearances', y='Count', data=appearances_df, logistic=True)\n",
    "ax.figure.set_size_inches(13.5, 10.5)\n",
    "sns.despine()\n",
    "\n"
   ]
  },
  {
   "cell_type": "code",
   "execution_count": 8,
   "id": "e6602334",
   "metadata": {},
   "outputs": [
    {
     "name": "stderr",
     "output_type": "stream",
     "text": [
      "/Applications/anaconda3/envs/myenv2/lib/python3.8/site-packages/sklearn/utils/validation.py:993: DataConversionWarning: A column-vector y was passed when a 1d array was expected. Please change the shape of y to (n_samples, ), for example using ravel().\n",
      "  y = column_or_1d(y, warn=True)\n",
      "/Applications/anaconda3/envs/myenv2/lib/python3.8/site-packages/sklearn/base.py:566: FutureWarning: Arrays of bytes/strings is being converted to decimal numbers if dtype='numeric'. This behavior is deprecated in 0.24 and will be removed in 1.1 (renaming of 0.26). Please convert your data to numeric values explicitly instead.\n",
      "  X = check_array(X, **check_params)\n"
     ]
    },
    {
     "name": "stdout",
     "output_type": "stream",
     "text": [
      "Goals Score:  0.6180555555555556\n"
     ]
    },
    {
     "data": {
      "image/png": "[encoded data removed]",
      "text/plain": [
       "<Figure size 972x756 with 1 Axes>"
      ]
     },
     "metadata": {
      "needs_background": "light"
     },
     "output_type": "display_data"
    }
   ],
   "source": [
    "# Logistc regression based on goals\n",
    "plot_goal_list = []\n",
    "for count, value in enumerate(goals):\n",
    "    plot_goal = []\n",
    "    plot_goal.append(int(value))\n",
    "    plot_goal.append(int(goal_label[count]))\n",
    "    plot_goal_list.append(plot_goal)\n",
    "    \n",
    "X_train, X_test, y_train, y_test = train_test_split(goals, goal_label, test_size=0.25, random_state=0)\n",
    "X_train, X_test, y_train, y_test = np_arr(X_train, X_test, y_train, y_test)\n",
    "model.fit(X_train, y_train)\n",
    "print(\"Goals Score: \", model.score(X_test, y_test))\n",
    "\n",
    "goals_df = pd.DataFrame(plot_goal_list, columns=[\"Goals\", \"Count\"])\n",
    "ax = sns.regplot(x='Goals', y='Count',data=goals_df, logistic=True)\n",
    "ax.figure.set_size_inches(13.5, 10.5)\n",
    "sns.despine()\n"
   ]
  },
  {
   "cell_type": "code",
   "execution_count": 9,
   "id": "9b35c80b",
   "metadata": {},
   "outputs": [
    {
     "name": "stderr",
     "output_type": "stream",
     "text": [
      "/Applications/anaconda3/envs/myenv2/lib/python3.8/site-packages/sklearn/utils/validation.py:993: DataConversionWarning: A column-vector y was passed when a 1d array was expected. Please change the shape of y to (n_samples, ), for example using ravel().\n",
      "  y = column_or_1d(y, warn=True)\n",
      "/Applications/anaconda3/envs/myenv2/lib/python3.8/site-packages/sklearn/base.py:566: FutureWarning: Arrays of bytes/strings is being converted to decimal numbers if dtype='numeric'. This behavior is deprecated in 0.24 and will be removed in 1.1 (renaming of 0.26). Please convert your data to numeric values explicitly instead.\n",
      "  X = check_array(X, **check_params)\n"
     ]
    },
    {
     "name": "stdout",
     "output_type": "stream",
     "text": [
      "Assists Score:  0.5842696629213483\n"
     ]
    },
    {
     "data": {
      "image/png": "[encoded data removed]",
      "text/plain": [
       "<Figure size 972x756 with 1 Axes>"
      ]
     },
     "metadata": {
      "needs_background": "light"
     },
     "output_type": "display_data"
    }
   ],
   "source": [
    "# Logistc regression based on assists\n",
    "plot_assist_list = []\n",
    "for count, value in enumerate(assists):\n",
    "    plot_assist = []\n",
    "    plot_assist.append(int(value))\n",
    "    plot_assist.append(int(assist_label[count]))\n",
    "    plot_assist_list.append(plot_assist)\n",
    "\n",
    "X_train, X_test, y_train, y_test = train_test_split(assists, assist_label, test_size=0.25, random_state=0)\n",
    "X_train, X_test, y_train, y_test = np_arr(X_train, X_test, y_train, y_test)\n",
    "model.fit(X_train, y_train)\n",
    "print(\"Assists Score: \", model.score(X_test, y_test))\n",
    "\n",
    "assists_df = pd.DataFrame(plot_assist_list, columns=[\"Assists\", \"Count\"])\n",
    "ax = sns.regplot(x='Assists', y='Count', data=assists_df, logistic=True)\n",
    "ax.figure.set_size_inches(13.5, 10.5)\n",
    "sns.despine()\n"
   ]
  },
  {
   "cell_type": "markdown",
   "id": "cba9d9be",
   "metadata": {},
   "source": [
    "### PMI to evaluate the association between international players vs England players"
   ]
  },
  {
   "cell_type": "code",
   "execution_count": 10,
   "id": "44dd91bb",
   "metadata": {},
   "outputs": [
    {
     "name": "stdout",
     "output_type": "stream",
     "text": [
      "654\n"
     ]
    }
   ],
   "source": [
    "# Total of players in the Premier League\n",
    "sum=0\n",
    "for i in team_dict:\n",
    "    df=team_dict[i]\n",
    "    for name in df['Name']:\n",
    "        sum+=1\n",
    "print(sum)   "
   ]
  },
  {
   "cell_type": "code",
   "execution_count": 11,
   "id": "ccb72b2f",
   "metadata": {},
   "outputs": [
    {
     "name": "stdout",
     "output_type": "stream",
     "text": [
      "{'Netherlands': 15, 'Northern Ireland': 7, 'England': 20, 'Scotland': 16, 'Germany': 9, 'Ireland': 12, 'Greece': 2, 'Turkey': 3, 'United States': 4, 'Poland': 6, 'Denmark': 6, 'Kosovo': 1, 'France': 18, 'Norway': 7, 'Finland': 3, 'Spain': 15, 'Belgium': 11, 'Wales': 11, 'Brazil': 13, 'Cameroon': 2, 'Guinea': 2, 'Senegal': 5, 'Egypt': 2, 'Portugal': 8, 'Japan': 2, 'Colombia': 6, 'Argentina': 8, 'Sweden': 6, 'Zimbabwe': 1, 'Burkina Faso': 1, 'Jamaica': 3, 'Ghana': 5, 'Switzerland': 3, 'Mexico': 2, 'Cote D’Ivoire': 6, 'Serbia': 2, 'Tunisia': 1, 'Uruguay': 2, 'Iraq': 1, 'Nigeria': 4, 'Thailand': 1, 'Zambia': 2, 'Bosnia & Herzegovina': 1, 'Ukraine': 3, 'Mali': 3, 'Venezuela': 1, 'Algeria': 2, 'Romania': 1, 'Ecuador': 1, 'Slovakia': 2, 'Paraguay': 1, 'New Zealand': 1, 'Italy': 3, 'Estonia': 1, 'South Korea': 2, 'Iceland': 2, 'Czech Republic': 2, 'Austria': 1, 'Morocco': 3, 'Chile': 1, '': 1, 'DR Congo': 3, 'Croatia': 2, 'Montenegro': 1, 'Grenada': 1, 'Iran': 1, 'Albania': 1}\n"
     ]
    }
   ],
   "source": [
    "# Find the number of co-occurance for each team\n",
    "\n",
    "nationality_list=[]\n",
    "\n",
    "def PMI1(get_nation):\n",
    "    nationality_dict = {}\n",
    "    df=team_dict[get_nation]\n",
    "    for i in df['Nationality']:\n",
    "       nationality_dict[i]=1\n",
    "    return nationality_dict\n",
    "    \n",
    "for nation in team_dict:\n",
    "    nationality_list.append(PMI1(nation))\n",
    "\n",
    "nationality={}\n",
    "for i in nationality_list:\n",
    "    for key in i:\n",
    "        if key not in nationality:\n",
    "            nationality[key]=i[key]\n",
    "        else:\n",
    "            nationality[key]+=i[key]\n",
    "    \n",
    "print(nationality)        \n",
    "\n",
    "            "
   ]
  },
  {
   "cell_type": "code",
   "execution_count": 12,
   "id": "f574f4e4",
   "metadata": {},
   "outputs": [
    {
     "name": "stdout",
     "output_type": "stream",
     "text": [
      "{'Netherlands': 20, 'Northern Ireland': 7, 'England': 267, 'Scotland': 27, 'Germany': 13, 'Ireland': 21, 'Greece': 3, 'Turkey': 3, 'United States': 5, 'Poland': 6, 'Denmark': 13, 'Kosovo': 1, 'France': 30, 'Norway': 8, 'Finland': 3, 'Spain': 27, 'Belgium': 14, 'Wales': 15, 'Brazil': 27, 'Cameroon': 2, 'Guinea': 2, 'Senegal': 5, 'Egypt': 2, 'Portugal': 23, 'Japan': 2, 'Colombia': 6, 'Argentina': 9, 'Sweden': 7, 'Zimbabwe': 1, 'Burkina Faso': 1, 'Jamaica': 3, 'Ghana': 6, 'Switzerland': 3, 'Mexico': 2, 'Cote D’Ivoire': 6, 'Serbia': 2, 'Tunisia': 1, 'Uruguay': 3, 'Iraq': 1, 'Nigeria': 9, 'Thailand': 1, 'Zambia': 2, 'Bosnia & Herzegovina': 1, 'Ukraine': 3, 'Mali': 3, 'Venezuela': 1, 'Algeria': 2, 'Romania': 1, 'Ecuador': 2, 'Slovakia': 2, 'Paraguay': 1, 'New Zealand': 1, 'Italy': 3, 'Estonia': 1, 'South Korea': 2, 'Iceland': 2, 'Czech Republic': 4, 'Austria': 1, 'Morocco': 4, 'Chile': 1, '': 1, 'DR Congo': 3, 'Croatia': 2, 'Montenegro': 1, 'Grenada': 1, 'Iran': 1, 'Albania': 1}\n"
     ]
    }
   ],
   "source": [
    "# Find the total of players in each country\n",
    "nationality2={}\n",
    "for nation in team_dict:\n",
    "    df= team_dict[nation]\n",
    "    for i in df['Nationality']:\n",
    "        if i not in nationality2:\n",
    "            nationality2[i]=1\n",
    "        else:\n",
    "            nationality2[i]+=1\n",
    "print(nationality2)"
   ]
  },
  {
   "cell_type": "code",
   "execution_count": 13,
   "id": "b3452a1b",
   "metadata": {},
   "outputs": [
    {
     "name": "stdout",
     "output_type": "stream",
     "text": [
      "['Netherlands', 'Northern Ireland', 'Scotland', 'Germany', 'Ireland', 'Greece', 'Turkey', 'United States', 'Poland', 'Denmark', 'Kosovo', 'France', 'Norway', 'Finland', 'Spain', 'Belgium', 'Wales', 'Brazil', 'Cameroon', 'Guinea', 'Senegal', 'Egypt', 'Portugal', 'Japan', 'Colombia', 'Argentina', 'Sweden', 'Zimbabwe', 'Burkina Faso', 'Jamaica', 'Ghana', 'Switzerland', 'Mexico', 'Cote D’Ivoire', 'Serbia', 'Tunisia', 'Uruguay', 'Iraq', 'Nigeria', 'Thailand', 'Zambia', 'Bosnia & Herzegovina', 'Ukraine', 'Mali', 'Venezuela', 'Algeria', 'Romania', 'Ecuador', 'Slovakia', 'Paraguay', 'New Zealand', 'Italy', 'Estonia', 'South Korea', 'Iceland', 'Czech Republic', 'Austria', 'Morocco', 'Chile', 'DR Congo', 'Croatia', 'Montenegro', 'Grenada', 'Iran', 'Albania']\n"
     ]
    }
   ],
   "source": [
    "# Get the list of nations\n",
    "get_nation=[]\n",
    "for i in team_dict:\n",
    "    df=team_dict[i]\n",
    "    for nation in df['Nationality']:\n",
    "        if nation not in get_nation and nation != '' and nation != 'England':\n",
    "            get_nation.append(nation)\n",
    "print(get_nation)\n"
   ]
  },
  {
   "cell_type": "code",
   "execution_count": 14,
   "id": "cab363e4",
   "metadata": {},
   "outputs": [
    {
     "data": {
      "text/html": [
       "<div>\n",
       "<style scoped>\n",
       "    .dataframe tbody tr th:only-of-type {\n",
       "        vertical-align: middle;\n",
       "    }\n",
       "\n",
       "    .dataframe tbody tr th {\n",
       "        vertical-align: top;\n",
       "    }\n",
       "\n",
       "    .dataframe thead th {\n",
       "        text-align: right;\n",
       "    }\n",
       "</style>\n",
       "<table border=\"1\" class=\"dataframe\">\n",
       "  <thead>\n",
       "    <tr style=\"text-align: right;\">\n",
       "      <th></th>\n",
       "      <th>Country</th>\n",
       "      <th>PMI</th>\n",
       "    </tr>\n",
       "  </thead>\n",
       "  <tbody>\n",
       "    <tr>\n",
       "      <th>0</th>\n",
       "      <td>Mexico</td>\n",
       "      <td>1.292451</td>\n",
       "    </tr>\n",
       "    <tr>\n",
       "      <th>1</th>\n",
       "      <td>Slovakia</td>\n",
       "      <td>1.292451</td>\n",
       "    </tr>\n",
       "    <tr>\n",
       "      <th>2</th>\n",
       "      <td>Cote D’Ivoire</td>\n",
       "      <td>1.292451</td>\n",
       "    </tr>\n",
       "    <tr>\n",
       "      <th>3</th>\n",
       "      <td>Serbia</td>\n",
       "      <td>1.292451</td>\n",
       "    </tr>\n",
       "    <tr>\n",
       "      <th>4</th>\n",
       "      <td>Tunisia</td>\n",
       "      <td>1.292451</td>\n",
       "    </tr>\n",
       "    <tr>\n",
       "      <th>...</th>\n",
       "      <td>...</td>\n",
       "      <td>...</td>\n",
       "    </tr>\n",
       "    <tr>\n",
       "      <th>60</th>\n",
       "      <td>Ecuador</td>\n",
       "      <td>0.292451</td>\n",
       "    </tr>\n",
       "    <tr>\n",
       "      <th>61</th>\n",
       "      <td>Brazil</td>\n",
       "      <td>0.238003</td>\n",
       "    </tr>\n",
       "    <tr>\n",
       "      <th>62</th>\n",
       "      <td>Denmark</td>\n",
       "      <td>0.176974</td>\n",
       "    </tr>\n",
       "    <tr>\n",
       "      <th>63</th>\n",
       "      <td>Nigeria</td>\n",
       "      <td>0.122526</td>\n",
       "    </tr>\n",
       "    <tr>\n",
       "      <th>64</th>\n",
       "      <td>Portugal</td>\n",
       "      <td>-0.231111</td>\n",
       "    </tr>\n",
       "  </tbody>\n",
       "</table>\n",
       "<p>65 rows × 2 columns</p>\n",
       "</div>"
      ],
      "text/plain": [
       "          Country       PMI\n",
       "0          Mexico  1.292451\n",
       "1        Slovakia  1.292451\n",
       "2   Cote D’Ivoire  1.292451\n",
       "3          Serbia  1.292451\n",
       "4         Tunisia  1.292451\n",
       "..            ...       ...\n",
       "60        Ecuador  0.292451\n",
       "61         Brazil  0.238003\n",
       "62        Denmark  0.176974\n",
       "63        Nigeria  0.122526\n",
       "64       Portugal -0.231111\n",
       "\n",
       "[65 rows x 2 columns]"
      ]
     },
     "execution_count": 14,
     "metadata": {},
     "output_type": "execute_result"
    }
   ],
   "source": [
    "# Find pmi(x,y)\n",
    "# x: Countries other than England\n",
    "# y: England\n",
    "country=[]\n",
    "for nation in get_nation:\n",
    "    score = []\n",
    "    pmi=np.log2((nationality[nation]/sum)/((nationality2[nation]/sum)*(nationality2['England']/sum)))\n",
    "    score.append(nation)\n",
    "    score.append(pmi)\n",
    "    country.append(score)\n",
    "pmi_df = pd.DataFrame(country, columns=[\"Country\",\"PMI\"])\n",
    "pmi_df = pmi_df.sort_values(by='PMI', ascending=False,ignore_index=True)\n",
    "pmi_df\n"
   ]
  }
 ],
 "metadata": {
  "kernelspec": {
   "display_name": "Python 3 (ipykernel)",
   "language": "python",
   "name": "python3"
  },
  "language_info": {
   "codemirror_mode": {
    "name": "ipython",
    "version": 3
   },
   "file_extension": ".py",
   "mimetype": "text/x-python",
   "name": "python",
   "nbconvert_exporter": "python",
   "pygments_lexer": "ipython3",
   "version": "3.8.13"
  }
 },
 "nbformat": 4,
 "nbformat_minor": 5
}
